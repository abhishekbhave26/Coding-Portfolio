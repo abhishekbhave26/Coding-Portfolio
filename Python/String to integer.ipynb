{
 "cells": [
  {
   "cell_type": "code",
   "execution_count": 13,
   "metadata": {},
   "outputs": [],
   "source": [
    "def myAtoi(self, str):\n",
    "        \n",
    "    if not str:\n",
    "        return 0\n",
    "    str = str.strip()\n",
    "    number, flag = 0, 1\n",
    "    if str[0] == '-':\n",
    "        str = str[1:]\n",
    "        flag = -1\n",
    "    elif str[0] == '+':\n",
    "        str = str[1:]\n",
    "    for c in str:\n",
    "        if c >= '0' and c <= '9':\n",
    "            number = 10*number + ord(c) - ord('0')\n",
    "        else:\n",
    "            break\n",
    "    number = flag * number\n",
    "    number = number if number <= 2147483647 else 2147483647\n",
    "    number = number if number >= -2147483648 else -2147483648\n",
    "    return number"
   ]
  },
  {
   "cell_type": "code",
   "execution_count": 20,
   "metadata": {},
   "outputs": [
    {
     "data": {
      "text/plain": [
       "77259"
      ]
     },
     "execution_count": 20,
     "metadata": {},
     "output_type": "execute_result"
    }
   ],
   "source": [
    "myAtoi(myAtoi,'  77259 with words 87')"
   ]
  },
  {
   "cell_type": "code",
   "execution_count": null,
   "metadata": {},
   "outputs": [],
   "source": []
  },
  {
   "cell_type": "code",
   "execution_count": null,
   "metadata": {},
   "outputs": [],
   "source": []
  }
 ],
 "metadata": {
  "kernelspec": {
   "display_name": "Python 3",
   "language": "python",
   "name": "python3"
  },
  "language_info": {
   "codemirror_mode": {
    "name": "ipython",
    "version": 3
   },
   "file_extension": ".py",
   "mimetype": "text/x-python",
   "name": "python",
   "nbconvert_exporter": "python",
   "pygments_lexer": "ipython3",
   "version": "3.6.4"
  }
 },
 "nbformat": 4,
 "nbformat_minor": 2
}
